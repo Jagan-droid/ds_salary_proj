{
 "cells": [
  {
   "cell_type": "code",
   "execution_count": 1,
   "metadata": {},
   "outputs": [],
   "source": [
    "import pandas as pd\n",
    "import matplotlib.pyplot as plt\n",
    "import seaborn as sns"
   ]
  },
  {
   "cell_type": "code",
   "execution_count": 2,
   "metadata": {},
   "outputs": [],
   "source": [
    "df = pd.read_csv(\"jobdata_cleaned.csv\")"
   ]
  },
  {
   "cell_type": "code",
   "execution_count": 3,
   "metadata": {},
   "outputs": [
    {
     "data": {
      "text/html": [
       "<div>\n",
       "<style scoped>\n",
       "    .dataframe tbody tr th:only-of-type {\n",
       "        vertical-align: middle;\n",
       "    }\n",
       "\n",
       "    .dataframe tbody tr th {\n",
       "        vertical-align: top;\n",
       "    }\n",
       "\n",
       "    .dataframe thead th {\n",
       "        text-align: right;\n",
       "    }\n",
       "</style>\n",
       "<table border=\"1\" class=\"dataframe\">\n",
       "  <thead>\n",
       "    <tr style=\"text-align: right;\">\n",
       "      <th></th>\n",
       "      <th>Job Title</th>\n",
       "      <th>Salary Estimate</th>\n",
       "      <th>Job Description</th>\n",
       "      <th>Rating</th>\n",
       "      <th>Company Name</th>\n",
       "      <th>Location</th>\n",
       "      <th>Headquarters</th>\n",
       "      <th>Size</th>\n",
       "      <th>Founded</th>\n",
       "      <th>Type of ownership</th>\n",
       "      <th>...</th>\n",
       "      <th>Competitors</th>\n",
       "      <th>company_txt</th>\n",
       "      <th>same_state</th>\n",
       "      <th>hq_country</th>\n",
       "      <th>age</th>\n",
       "      <th>python_yn</th>\n",
       "      <th>R_yn</th>\n",
       "      <th>spark_yn</th>\n",
       "      <th>aws_yn</th>\n",
       "      <th>excel_yn</th>\n",
       "    </tr>\n",
       "  </thead>\n",
       "  <tbody>\n",
       "    <tr>\n",
       "      <td>0</td>\n",
       "      <td>Data Scientist</td>\n",
       "      <td>-1</td>\n",
       "      <td>Job Description – Data Scientist\\n\\nLocation: ...</td>\n",
       "      <td>3.6</td>\n",
       "      <td>Buckman\\n3.6</td>\n",
       "      <td>Chennai</td>\n",
       "      <td>Memphis, TN</td>\n",
       "      <td>1001 to 5000 employees</td>\n",
       "      <td>1945</td>\n",
       "      <td>Company - Private</td>\n",
       "      <td>...</td>\n",
       "      <td>-1</td>\n",
       "      <td>Buckman\\n</td>\n",
       "      <td>0</td>\n",
       "      <td>TN</td>\n",
       "      <td>75</td>\n",
       "      <td>1</td>\n",
       "      <td>0</td>\n",
       "      <td>0</td>\n",
       "      <td>0</td>\n",
       "      <td>0</td>\n",
       "    </tr>\n",
       "    <tr>\n",
       "      <td>1</td>\n",
       "      <td>Data Scientist</td>\n",
       "      <td>-1</td>\n",
       "      <td>Job Title\\nData Scientist\\n\\n20-Jan-2020\\n\\nNo...</td>\n",
       "      <td>4.0</td>\n",
       "      <td>Shell\\n4.0</td>\n",
       "      <td>Chennai</td>\n",
       "      <td>Houston, TX</td>\n",
       "      <td>10000+ employees</td>\n",
       "      <td>1907</td>\n",
       "      <td>Company - Public</td>\n",
       "      <td>...</td>\n",
       "      <td>ExxonMobil, BP, Chevron</td>\n",
       "      <td>Shell\\n</td>\n",
       "      <td>0</td>\n",
       "      <td>TX</td>\n",
       "      <td>113</td>\n",
       "      <td>1</td>\n",
       "      <td>0</td>\n",
       "      <td>1</td>\n",
       "      <td>0</td>\n",
       "      <td>1</td>\n",
       "    </tr>\n",
       "    <tr>\n",
       "      <td>2</td>\n",
       "      <td>Data Scientist</td>\n",
       "      <td>-1</td>\n",
       "      <td>Work with stakeholders throughout the organiza...</td>\n",
       "      <td>3.8</td>\n",
       "      <td>Mindtree\\n3.8</td>\n",
       "      <td>Chennai</td>\n",
       "      <td>Bengaluru, India</td>\n",
       "      <td>10000+ employees</td>\n",
       "      <td>1999</td>\n",
       "      <td>Company - Public</td>\n",
       "      <td>...</td>\n",
       "      <td>Infosys, Tata Consultancy Services, Wipro</td>\n",
       "      <td>Mindtree\\n</td>\n",
       "      <td>0</td>\n",
       "      <td>India</td>\n",
       "      <td>21</td>\n",
       "      <td>1</td>\n",
       "      <td>0</td>\n",
       "      <td>1</td>\n",
       "      <td>0</td>\n",
       "      <td>1</td>\n",
       "    </tr>\n",
       "    <tr>\n",
       "      <td>3</td>\n",
       "      <td>Data Scientist</td>\n",
       "      <td>-1</td>\n",
       "      <td>Managing 2 to 3 business lines Provide end to ...</td>\n",
       "      <td>3.5</td>\n",
       "      <td>HDFC Bank\\n3.5</td>\n",
       "      <td>Chennai</td>\n",
       "      <td>Mumbai, India</td>\n",
       "      <td>10000+ employees</td>\n",
       "      <td>1995</td>\n",
       "      <td>Company - Public</td>\n",
       "      <td>...</td>\n",
       "      <td>State Bank of India, ICICI Bank, Axis Bank</td>\n",
       "      <td>HDFC Bank\\n</td>\n",
       "      <td>0</td>\n",
       "      <td>India</td>\n",
       "      <td>25</td>\n",
       "      <td>0</td>\n",
       "      <td>0</td>\n",
       "      <td>0</td>\n",
       "      <td>0</td>\n",
       "      <td>0</td>\n",
       "    </tr>\n",
       "    <tr>\n",
       "      <td>4</td>\n",
       "      <td>Data Scientist</td>\n",
       "      <td>-1</td>\n",
       "      <td>Data Scientist\\n\\n\\nYou will discover the info...</td>\n",
       "      <td>5.0</td>\n",
       "      <td>Acies\\n5.0</td>\n",
       "      <td>Chennai</td>\n",
       "      <td>Chicago, IL</td>\n",
       "      <td>1 to 50 employees</td>\n",
       "      <td>-1</td>\n",
       "      <td>Company - Private</td>\n",
       "      <td>...</td>\n",
       "      <td>-1</td>\n",
       "      <td>Acies\\n</td>\n",
       "      <td>0</td>\n",
       "      <td>IL</td>\n",
       "      <td>-1</td>\n",
       "      <td>0</td>\n",
       "      <td>0</td>\n",
       "      <td>0</td>\n",
       "      <td>0</td>\n",
       "      <td>1</td>\n",
       "    </tr>\n",
       "  </tbody>\n",
       "</table>\n",
       "<p>5 rows × 23 columns</p>\n",
       "</div>"
      ],
      "text/plain": [
       "        Job Title  Salary Estimate  \\\n",
       "0  Data Scientist               -1   \n",
       "1  Data Scientist               -1   \n",
       "2  Data Scientist               -1   \n",
       "3  Data Scientist               -1   \n",
       "4  Data Scientist               -1   \n",
       "\n",
       "                                     Job Description  Rating    Company Name  \\\n",
       "0  Job Description – Data Scientist\\n\\nLocation: ...     3.6    Buckman\\n3.6   \n",
       "1  Job Title\\nData Scientist\\n\\n20-Jan-2020\\n\\nNo...     4.0      Shell\\n4.0   \n",
       "2  Work with stakeholders throughout the organiza...     3.8   Mindtree\\n3.8   \n",
       "3  Managing 2 to 3 business lines Provide end to ...     3.5  HDFC Bank\\n3.5   \n",
       "4  Data Scientist\\n\\n\\nYou will discover the info...     5.0      Acies\\n5.0   \n",
       "\n",
       "  Location      Headquarters                    Size  Founded  \\\n",
       "0  Chennai       Memphis, TN  1001 to 5000 employees     1945   \n",
       "1  Chennai       Houston, TX        10000+ employees     1907   \n",
       "2  Chennai  Bengaluru, India        10000+ employees     1999   \n",
       "3  Chennai     Mumbai, India        10000+ employees     1995   \n",
       "4  Chennai       Chicago, IL       1 to 50 employees       -1   \n",
       "\n",
       "   Type of ownership  ...                                 Competitors  \\\n",
       "0  Company - Private  ...                                          -1   \n",
       "1   Company - Public  ...                     ExxonMobil, BP, Chevron   \n",
       "2   Company - Public  ...   Infosys, Tata Consultancy Services, Wipro   \n",
       "3   Company - Public  ...  State Bank of India, ICICI Bank, Axis Bank   \n",
       "4  Company - Private  ...                                          -1   \n",
       "\n",
       "   company_txt same_state hq_country  age  python_yn R_yn  spark_yn  aws_yn  \\\n",
       "0    Buckman\\n          0         TN   75          1    0         0       0   \n",
       "1      Shell\\n          0         TX  113          1    0         1       0   \n",
       "2   Mindtree\\n          0      India   21          1    0         1       0   \n",
       "3  HDFC Bank\\n          0      India   25          0    0         0       0   \n",
       "4      Acies\\n          0         IL   -1          0    0         0       0   \n",
       "\n",
       "   excel_yn  \n",
       "0         0  \n",
       "1         1  \n",
       "2         1  \n",
       "3         0  \n",
       "4         1  \n",
       "\n",
       "[5 rows x 23 columns]"
      ]
     },
     "execution_count": 3,
     "metadata": {},
     "output_type": "execute_result"
    }
   ],
   "source": [
    "df.head()"
   ]
  },
  {
   "cell_type": "code",
   "execution_count": 5,
   "metadata": {},
   "outputs": [
    {
     "data": {
      "text/plain": [
       "Index(['Job Title', 'Salary Estimate', 'Job Description', 'Rating',\n",
       "       'Company Name', 'Location', 'Headquarters', 'Size', 'Founded',\n",
       "       'Type of ownership', 'Industry', 'Sector', 'Revenue', 'Competitors',\n",
       "       'company_txt', 'same_state', 'hq_country', 'age', 'python_yn', 'R_yn',\n",
       "       'spark_yn', 'aws_yn', 'excel_yn'],\n",
       "      dtype='object')"
      ]
     },
     "execution_count": 5,
     "metadata": {},
     "output_type": "execute_result"
    }
   ],
   "source": [
    "df.columns"
   ]
  },
  {
   "cell_type": "code",
   "execution_count": 6,
   "metadata": {},
   "outputs": [],
   "source": [
    "def title_simplifier(title):\n",
    "    if 'data scientist' in title.lower():\n",
    "        return 'data scientist'\n",
    "    elif 'data engineer' in title.lower():\n",
    "        return 'data engineer'\n",
    "    elif 'analyst' in title.lower():\n",
    "        return 'analyst'\n",
    "    elif 'machine learning' in title.lower():\n",
    "        return 'mle'\n",
    "    elif 'manager' in title.lower():\n",
    "        return 'manager'\n",
    "    elif 'director' in title.lower():\n",
    "        return 'director'\n",
    "    else:\n",
    "        return 'na'\n",
    "    \n",
    "def seniority(title):\n",
    "    if 'sr' in title.lower() or 'senior' in title.lower() or 'sr' in title.lower() or 'lead' in title.lower() or 'principal' in title.lower():\n",
    "            return 'senior'\n",
    "    elif 'jr' in title.lower() or 'jr.' in title.lower():\n",
    "        return 'jr'\n",
    "    else:\n",
    "        return 'na'\n",
    "\t\t\n",
    "## Job title and seniority \n",
    "\t\t\n",
    "##  Fix state Los Angeles \n",
    "\n",
    "##  Job description length \n",
    "\n",
    "##  Competitor count\n",
    "\n",
    "## hourly wage to annual \n",
    "\n",
    "#remove new line from job title "
   ]
  },
  {
   "cell_type": "code",
   "execution_count": 7,
   "metadata": {},
   "outputs": [],
   "source": [
    " df['job_simp'] = df['Job Title'].apply(title_simplifier)"
   ]
  },
  {
   "cell_type": "code",
   "execution_count": 8,
   "metadata": {},
   "outputs": [
    {
     "data": {
      "text/plain": [
       "data scientist    15\n",
       "Name: job_simp, dtype: int64"
      ]
     },
     "execution_count": 8,
     "metadata": {},
     "output_type": "execute_result"
    }
   ],
   "source": [
    "df.job_simp.value_counts()"
   ]
  },
  {
   "cell_type": "code",
   "execution_count": 9,
   "metadata": {},
   "outputs": [],
   "source": [
    "df['seniority'] = df['Job Title'].apply(seniority)"
   ]
  },
  {
   "cell_type": "code",
   "execution_count": 11,
   "metadata": {},
   "outputs": [],
   "source": [
    "df.hq_country.value_counts()\n",
    "df['hq_country']=df.hq_country.apply(lambda x: x.strip() if x.strip().lower()!= 'los angeles' else 'CA')"
   ]
  },
  {
   "cell_type": "code",
   "execution_count": 12,
   "metadata": {},
   "outputs": [
    {
     "data": {
      "text/plain": [
       "India          5\n",
       "-1             3\n",
       "CA             2\n",
       "IL             1\n",
       "TX             1\n",
       "Netherlands    1\n",
       "NJ             1\n",
       "TN             1\n",
       "Name: hq_country, dtype: int64"
      ]
     },
     "execution_count": 12,
     "metadata": {},
     "output_type": "execute_result"
    }
   ],
   "source": [
    "df.hq_country.value_counts()"
   ]
  },
  {
   "cell_type": "code",
   "execution_count": null,
   "metadata": {},
   "outputs": [],
   "source": []
  }
 ],
 "metadata": {
  "kernelspec": {
   "display_name": "Python 3",
   "language": "python",
   "name": "python3"
  },
  "language_info": {
   "codemirror_mode": {
    "name": "ipython",
    "version": 3
   },
   "file_extension": ".py",
   "mimetype": "text/x-python",
   "name": "python",
   "nbconvert_exporter": "python",
   "pygments_lexer": "ipython3",
   "version": "3.7.4"
  }
 },
 "nbformat": 4,
 "nbformat_minor": 2
}
